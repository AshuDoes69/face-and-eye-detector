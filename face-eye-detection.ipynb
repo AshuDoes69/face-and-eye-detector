{
 "cells": [
  {
   "cell_type": "markdown",
   "id": "2705c066",
   "metadata": {
    "papermill": {
     "duration": 0.002317,
     "end_time": "2023-05-18T13:30:45.868214",
     "exception": false,
     "start_time": "2023-05-18T13:30:45.865897",
     "status": "completed"
    },
    "tags": []
   },
   "source": [
    "### Face and Eye Detection"
   ]
  },
  {
   "cell_type": "code",
   "execution_count": 7,
   "id": "096baf21",
   "metadata": {
    "execution": {
     "iopub.execute_input": "2023-05-18T13:30:45.874369Z",
     "iopub.status.busy": "2023-05-18T13:30:45.873833Z",
     "iopub.status.idle": "2023-05-18T13:30:49.224500Z",
     "shell.execute_reply": "2023-05-18T13:30:49.223341Z"
    },
    "papermill": {
     "duration": 3.358039,
     "end_time": "2023-05-18T13:30:49.228208",
     "exception": false,
     "start_time": "2023-05-18T13:30:45.870169",
     "status": "completed"
    },
    "tags": []
   },
   "outputs": [
    {
     "ename": "ImportError",
     "evalue": "libGL.so.1: cannot open shared object file: No such file or directory",
     "output_type": "error",
     "traceback": [
      "\u001b[0;31m---------------------------------------------------------------------------\u001b[0m",
      "\u001b[0;31mImportError\u001b[0m                               Traceback (most recent call last)",
      "\u001b[1;32m/workspaces/codespaces-blank/face-eye-detection.ipynb Cell 2\u001b[0m line \u001b[0;36m1\n\u001b[0;32m----> <a href='vscode-notebook-cell://codespaces%2Bpsychic-funicular-6px4rwrvv45hxgr/workspaces/codespaces-blank/face-eye-detection.ipynb#W1sdnNjb2RlLXJlbW90ZQ%3D%3D?line=0'>1</a>\u001b[0m \u001b[39mimport\u001b[39;00m \u001b[39mcv2\u001b[39;00m\n\u001b[1;32m      <a href='vscode-notebook-cell://codespaces%2Bpsychic-funicular-6px4rwrvv45hxgr/workspaces/codespaces-blank/face-eye-detection.ipynb#W1sdnNjb2RlLXJlbW90ZQ%3D%3D?line=1'>2</a>\u001b[0m \u001b[39mimport\u001b[39;00m \u001b[39mmatplotlib\u001b[39;00m\u001b[39m.\u001b[39;00m\u001b[39mpyplot\u001b[39;00m \u001b[39mas\u001b[39;00m \u001b[39mplt\u001b[39;00m\n\u001b[1;32m      <a href='vscode-notebook-cell://codespaces%2Bpsychic-funicular-6px4rwrvv45hxgr/workspaces/codespaces-blank/face-eye-detection.ipynb#W1sdnNjb2RlLXJlbW90ZQ%3D%3D?line=3'>4</a>\u001b[0m \u001b[39m# setting up the face and eye detectors\u001b[39;00m\n",
      "\u001b[0;31mImportError\u001b[0m: libGL.so.1: cannot open shared object file: No such file or directory"
     ]
    }
   ],
   "source": [
    "import cv2\n",
    "import matplotlib.pyplot as plt\n",
    "\n",
    "# setting up the face and eye detectors\n",
    "face_cascade = cv2.CascadeClassifier(cv2.data.haarcascades + 'haarcascade_frontalface_default.xml')\n",
    "eye_cascade = cv2.CascadeClassifier(cv2.data.haarcascades + 'haarcascade_eye.xml')\n",
    "#in the above line, we are using the pre-trained models from OpenCV\n",
    "# making a list of image file names\n",
    "#now are importing the images from the images folder\n",
    "\n",
    "import os\n",
    "p = os.listdir('/images')\n",
    "q = []\n",
    "for i in p:\n",
    "    if \".jpg\" in i:\n",
    "        q.append(i)\n",
    "#here we are making a list of all the images in the images folder\n",
    "def detect_face(x):\n",
    "    img = cv2.imread(f'/images/{x}')\n",
    "#this is the function that will detect the face and eyes in the image\n",
    "    # Detect faces\n",
    "    faces = face_cascade.detectMultiScale(img, 1.1, 4)\n",
    "    eyes  = eye_cascade.detectMultiScale(img, 1.1, 4)\n",
    "\n",
    "    # Draw rectangle around the faces\n",
    "    for (x, y, w, h) in faces:\n",
    "        cv2.rectangle(img, (x, y), (x+w, y+h), (255, 0, 0), 5)\n",
    "    for (x, y, w, h) in eyes:\n",
    "        cv2.rectangle(img, (x, y), (x+w, y+h), (0, 0, 255), 2)\n",
    "    # Convert images into RGB\n",
    "    im_rgb = cv2.cvtColor(img, cv2.COLOR_BGR2RGB)\n",
    "    \n",
    "    # Display the output\n",
    "    plt.imshow(im_rgb)\n",
    "    plt.show()\n",
    "\n",
    "# here we are calling the function for the first 10 images\n",
    "for i in q[106:110]:\n",
    "    detect_face(i)\n",
    "    "
   ]
  }
 ],
 "metadata": {
  "kernelspec": {
   "display_name": "Python 3",
   "language": "python",
   "name": "python3"
  },
  "language_info": {
   "codemirror_mode": {
    "name": "ipython",
    "version": 3
   },
   "file_extension": ".py",
   "mimetype": "text/x-python",
   "name": "python",
   "nbconvert_exporter": "python",
   "pygments_lexer": "ipython3",
   "version": "3.10.8"
  },
  "papermill": {
   "default_parameters": {},
   "duration": 17.588531,
   "end_time": "2023-05-18T13:30:50.167409",
   "environment_variables": {},
   "exception": null,
   "input_path": "__notebook__.ipynb",
   "output_path": "__notebook__.ipynb",
   "parameters": {},
   "start_time": "2023-05-18T13:30:32.578878",
   "version": "2.4.0"
  }
 },
 "nbformat": 4,
 "nbformat_minor": 5
}
